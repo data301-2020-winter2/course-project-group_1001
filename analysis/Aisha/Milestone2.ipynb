{
 "cells": [
  {
   "cell_type": "markdown",
   "id": "decimal-floor",
   "metadata": {},
   "source": [
    "# Milestone 2 \n",
    "---"
   ]
  },
  {
   "cell_type": "markdown",
   "id": "criminal-clinic",
   "metadata": {},
   "source": [
    "**This is me writing in bold**"
   ]
  },
  {
   "cell_type": "markdown",
   "id": "designed-gardening",
   "metadata": {},
   "source": [
    "*I can do italics too*"
   ]
  },
  {
   "cell_type": "markdown",
   "id": "complex-mistress",
   "metadata": {},
   "source": [
    "This file includes\n",
    "- Task 4: EDA\n",
    "- Task 5: Analysis"
   ]
  },
  {
   "cell_type": "markdown",
   "id": "center-reggae",
   "metadata": {},
   "source": [
    "## Task 4: Exploratory Data Analysis on Soviet Union/Russia\n",
    "---"
   ]
  },
  {
   "cell_type": "code",
   "execution_count": 41,
   "id": "oriented-horror",
   "metadata": {},
   "outputs": [
    {
     "data": {
      "text/html": [
       "<div>\n",
       "<style scoped>\n",
       "    .dataframe tbody tr th:only-of-type {\n",
       "        vertical-align: middle;\n",
       "    }\n",
       "\n",
       "    .dataframe tbody tr th {\n",
       "        vertical-align: top;\n",
       "    }\n",
       "\n",
       "    .dataframe thead th {\n",
       "        text-align: right;\n",
       "    }\n",
       "</style>\n",
       "<table border=\"1\" class=\"dataframe\">\n",
       "  <thead>\n",
       "    <tr style=\"text-align: right;\">\n",
       "      <th></th>\n",
       "      <th>ID</th>\n",
       "      <th>Name</th>\n",
       "      <th>Sex</th>\n",
       "      <th>Age</th>\n",
       "      <th>Height</th>\n",
       "      <th>Weight</th>\n",
       "      <th>Team</th>\n",
       "      <th>NOC</th>\n",
       "      <th>Games</th>\n",
       "      <th>Year</th>\n",
       "      <th>Season</th>\n",
       "      <th>City</th>\n",
       "      <th>Sport</th>\n",
       "      <th>Event</th>\n",
       "      <th>Medal</th>\n",
       "    </tr>\n",
       "  </thead>\n",
       "  <tbody>\n",
       "    <tr>\n",
       "      <th>0</th>\n",
       "      <td>1</td>\n",
       "      <td>A Dijiang</td>\n",
       "      <td>M</td>\n",
       "      <td>24.0</td>\n",
       "      <td>180.0</td>\n",
       "      <td>80.0</td>\n",
       "      <td>China</td>\n",
       "      <td>CHN</td>\n",
       "      <td>1992 Summer</td>\n",
       "      <td>1992</td>\n",
       "      <td>Summer</td>\n",
       "      <td>Barcelona</td>\n",
       "      <td>Basketball</td>\n",
       "      <td>Basketball Men's Basketball</td>\n",
       "      <td>NaN</td>\n",
       "    </tr>\n",
       "    <tr>\n",
       "      <th>1</th>\n",
       "      <td>2</td>\n",
       "      <td>A Lamusi</td>\n",
       "      <td>M</td>\n",
       "      <td>23.0</td>\n",
       "      <td>170.0</td>\n",
       "      <td>60.0</td>\n",
       "      <td>China</td>\n",
       "      <td>CHN</td>\n",
       "      <td>2012 Summer</td>\n",
       "      <td>2012</td>\n",
       "      <td>Summer</td>\n",
       "      <td>London</td>\n",
       "      <td>Judo</td>\n",
       "      <td>Judo Men's Extra-Lightweight</td>\n",
       "      <td>NaN</td>\n",
       "    </tr>\n",
       "    <tr>\n",
       "      <th>2</th>\n",
       "      <td>3</td>\n",
       "      <td>Gunnar Nielsen Aaby</td>\n",
       "      <td>M</td>\n",
       "      <td>24.0</td>\n",
       "      <td>NaN</td>\n",
       "      <td>NaN</td>\n",
       "      <td>Denmark</td>\n",
       "      <td>DEN</td>\n",
       "      <td>1920 Summer</td>\n",
       "      <td>1920</td>\n",
       "      <td>Summer</td>\n",
       "      <td>Antwerpen</td>\n",
       "      <td>Football</td>\n",
       "      <td>Football Men's Football</td>\n",
       "      <td>NaN</td>\n",
       "    </tr>\n",
       "    <tr>\n",
       "      <th>3</th>\n",
       "      <td>4</td>\n",
       "      <td>Edgar Lindenau Aabye</td>\n",
       "      <td>M</td>\n",
       "      <td>34.0</td>\n",
       "      <td>NaN</td>\n",
       "      <td>NaN</td>\n",
       "      <td>Denmark/Sweden</td>\n",
       "      <td>DEN</td>\n",
       "      <td>1900 Summer</td>\n",
       "      <td>1900</td>\n",
       "      <td>Summer</td>\n",
       "      <td>Paris</td>\n",
       "      <td>Tug-Of-War</td>\n",
       "      <td>Tug-Of-War Men's Tug-Of-War</td>\n",
       "      <td>Gold</td>\n",
       "    </tr>\n",
       "    <tr>\n",
       "      <th>4</th>\n",
       "      <td>5</td>\n",
       "      <td>Christine Jacoba Aaftink</td>\n",
       "      <td>F</td>\n",
       "      <td>21.0</td>\n",
       "      <td>185.0</td>\n",
       "      <td>82.0</td>\n",
       "      <td>Netherlands</td>\n",
       "      <td>NED</td>\n",
       "      <td>1988 Winter</td>\n",
       "      <td>1988</td>\n",
       "      <td>Winter</td>\n",
       "      <td>Calgary</td>\n",
       "      <td>Speed Skating</td>\n",
       "      <td>Speed Skating Women's 500 metres</td>\n",
       "      <td>NaN</td>\n",
       "    </tr>\n",
       "    <tr>\n",
       "      <th>...</th>\n",
       "      <td>...</td>\n",
       "      <td>...</td>\n",
       "      <td>...</td>\n",
       "      <td>...</td>\n",
       "      <td>...</td>\n",
       "      <td>...</td>\n",
       "      <td>...</td>\n",
       "      <td>...</td>\n",
       "      <td>...</td>\n",
       "      <td>...</td>\n",
       "      <td>...</td>\n",
       "      <td>...</td>\n",
       "      <td>...</td>\n",
       "      <td>...</td>\n",
       "      <td>...</td>\n",
       "    </tr>\n",
       "    <tr>\n",
       "      <th>271111</th>\n",
       "      <td>135569</td>\n",
       "      <td>Andrzej ya</td>\n",
       "      <td>M</td>\n",
       "      <td>29.0</td>\n",
       "      <td>179.0</td>\n",
       "      <td>89.0</td>\n",
       "      <td>Poland-1</td>\n",
       "      <td>POL</td>\n",
       "      <td>1976 Winter</td>\n",
       "      <td>1976</td>\n",
       "      <td>Winter</td>\n",
       "      <td>Innsbruck</td>\n",
       "      <td>Luge</td>\n",
       "      <td>Luge Mixed (Men)'s Doubles</td>\n",
       "      <td>NaN</td>\n",
       "    </tr>\n",
       "    <tr>\n",
       "      <th>271112</th>\n",
       "      <td>135570</td>\n",
       "      <td>Piotr ya</td>\n",
       "      <td>M</td>\n",
       "      <td>27.0</td>\n",
       "      <td>176.0</td>\n",
       "      <td>59.0</td>\n",
       "      <td>Poland</td>\n",
       "      <td>POL</td>\n",
       "      <td>2014 Winter</td>\n",
       "      <td>2014</td>\n",
       "      <td>Winter</td>\n",
       "      <td>Sochi</td>\n",
       "      <td>Ski Jumping</td>\n",
       "      <td>Ski Jumping Men's Large Hill, Individual</td>\n",
       "      <td>NaN</td>\n",
       "    </tr>\n",
       "    <tr>\n",
       "      <th>271113</th>\n",
       "      <td>135570</td>\n",
       "      <td>Piotr ya</td>\n",
       "      <td>M</td>\n",
       "      <td>27.0</td>\n",
       "      <td>176.0</td>\n",
       "      <td>59.0</td>\n",
       "      <td>Poland</td>\n",
       "      <td>POL</td>\n",
       "      <td>2014 Winter</td>\n",
       "      <td>2014</td>\n",
       "      <td>Winter</td>\n",
       "      <td>Sochi</td>\n",
       "      <td>Ski Jumping</td>\n",
       "      <td>Ski Jumping Men's Large Hill, Team</td>\n",
       "      <td>NaN</td>\n",
       "    </tr>\n",
       "    <tr>\n",
       "      <th>271114</th>\n",
       "      <td>135571</td>\n",
       "      <td>Tomasz Ireneusz ya</td>\n",
       "      <td>M</td>\n",
       "      <td>30.0</td>\n",
       "      <td>185.0</td>\n",
       "      <td>96.0</td>\n",
       "      <td>Poland</td>\n",
       "      <td>POL</td>\n",
       "      <td>1998 Winter</td>\n",
       "      <td>1998</td>\n",
       "      <td>Winter</td>\n",
       "      <td>Nagano</td>\n",
       "      <td>Bobsleigh</td>\n",
       "      <td>Bobsleigh Men's Four</td>\n",
       "      <td>NaN</td>\n",
       "    </tr>\n",
       "    <tr>\n",
       "      <th>271115</th>\n",
       "      <td>135571</td>\n",
       "      <td>Tomasz Ireneusz ya</td>\n",
       "      <td>M</td>\n",
       "      <td>34.0</td>\n",
       "      <td>185.0</td>\n",
       "      <td>96.0</td>\n",
       "      <td>Poland</td>\n",
       "      <td>POL</td>\n",
       "      <td>2002 Winter</td>\n",
       "      <td>2002</td>\n",
       "      <td>Winter</td>\n",
       "      <td>Salt Lake City</td>\n",
       "      <td>Bobsleigh</td>\n",
       "      <td>Bobsleigh Men's Four</td>\n",
       "      <td>NaN</td>\n",
       "    </tr>\n",
       "  </tbody>\n",
       "</table>\n",
       "<p>271116 rows × 15 columns</p>\n",
       "</div>"
      ],
      "text/plain": [
       "            ID                      Name Sex   Age  Height  Weight  \\\n",
       "0            1                 A Dijiang   M  24.0   180.0    80.0   \n",
       "1            2                  A Lamusi   M  23.0   170.0    60.0   \n",
       "2            3       Gunnar Nielsen Aaby   M  24.0     NaN     NaN   \n",
       "3            4      Edgar Lindenau Aabye   M  34.0     NaN     NaN   \n",
       "4            5  Christine Jacoba Aaftink   F  21.0   185.0    82.0   \n",
       "...        ...                       ...  ..   ...     ...     ...   \n",
       "271111  135569                Andrzej ya   M  29.0   179.0    89.0   \n",
       "271112  135570                  Piotr ya   M  27.0   176.0    59.0   \n",
       "271113  135570                  Piotr ya   M  27.0   176.0    59.0   \n",
       "271114  135571        Tomasz Ireneusz ya   M  30.0   185.0    96.0   \n",
       "271115  135571        Tomasz Ireneusz ya   M  34.0   185.0    96.0   \n",
       "\n",
       "                  Team  NOC        Games  Year  Season            City  \\\n",
       "0                China  CHN  1992 Summer  1992  Summer       Barcelona   \n",
       "1                China  CHN  2012 Summer  2012  Summer          London   \n",
       "2              Denmark  DEN  1920 Summer  1920  Summer       Antwerpen   \n",
       "3       Denmark/Sweden  DEN  1900 Summer  1900  Summer           Paris   \n",
       "4          Netherlands  NED  1988 Winter  1988  Winter         Calgary   \n",
       "...                ...  ...          ...   ...     ...             ...   \n",
       "271111        Poland-1  POL  1976 Winter  1976  Winter       Innsbruck   \n",
       "271112          Poland  POL  2014 Winter  2014  Winter           Sochi   \n",
       "271113          Poland  POL  2014 Winter  2014  Winter           Sochi   \n",
       "271114          Poland  POL  1998 Winter  1998  Winter          Nagano   \n",
       "271115          Poland  POL  2002 Winter  2002  Winter  Salt Lake City   \n",
       "\n",
       "                Sport                                     Event Medal  \n",
       "0          Basketball               Basketball Men's Basketball   NaN  \n",
       "1                Judo              Judo Men's Extra-Lightweight   NaN  \n",
       "2            Football                   Football Men's Football   NaN  \n",
       "3          Tug-Of-War               Tug-Of-War Men's Tug-Of-War  Gold  \n",
       "4       Speed Skating          Speed Skating Women's 500 metres   NaN  \n",
       "...               ...                                       ...   ...  \n",
       "271111           Luge                Luge Mixed (Men)'s Doubles   NaN  \n",
       "271112    Ski Jumping  Ski Jumping Men's Large Hill, Individual   NaN  \n",
       "271113    Ski Jumping        Ski Jumping Men's Large Hill, Team   NaN  \n",
       "271114      Bobsleigh                      Bobsleigh Men's Four   NaN  \n",
       "271115      Bobsleigh                      Bobsleigh Men's Four   NaN  \n",
       "\n",
       "[271116 rows x 15 columns]"
      ]
     },
     "execution_count": 41,
     "metadata": {},
     "output_type": "execute_result"
    }
   ],
   "source": [
    "import pandas as pd\n",
    "import numpy as np\n",
    "from matplotlib import pyplot\n",
    "import seaborn as sns\n",
    "\n",
    "from project_functions import loaddata\n",
    "from project_functions import nocMedals\n",
    "from project_functions import nocathletes\n",
    "from project_functions import athletesMedals\n",
    "from project_functions import medalsYear\n",
    "from project_functions import athletesYear\n",
    "from project_functions import nocMedalsYear\n",
    "from project_functions import nocAthletesYear\n",
    "from project_functions import getnoc\n",
    "\n",
    "data = pd.read_csv('../../data/raw/olympic_dataset.csv', low_memory=False, encoding = 'utf-8')\n",
    "data"
   ]
  },
  {
   "cell_type": "code",
   "execution_count": 57,
   "id": "raising-workstation",
   "metadata": {},
   "outputs": [
    {
     "data": {
      "text/html": [
       "<div>\n",
       "<style scoped>\n",
       "    .dataframe tbody tr th:only-of-type {\n",
       "        vertical-align: middle;\n",
       "    }\n",
       "\n",
       "    .dataframe tbody tr th {\n",
       "        vertical-align: top;\n",
       "    }\n",
       "\n",
       "    .dataframe thead th {\n",
       "        text-align: right;\n",
       "    }\n",
       "</style>\n",
       "<table border=\"1\" class=\"dataframe\">\n",
       "  <thead>\n",
       "    <tr style=\"text-align: right;\">\n",
       "      <th></th>\n",
       "      <th>ID</th>\n",
       "      <th>Name</th>\n",
       "      <th>Sex</th>\n",
       "      <th>Age</th>\n",
       "      <th>Height</th>\n",
       "      <th>Weight</th>\n",
       "      <th>Team</th>\n",
       "      <th>NOC</th>\n",
       "      <th>Games</th>\n",
       "      <th>Year</th>\n",
       "      <th>Season</th>\n",
       "      <th>City</th>\n",
       "      <th>Sport</th>\n",
       "      <th>Event</th>\n",
       "      <th>Medal</th>\n",
       "    </tr>\n",
       "  </thead>\n",
       "  <tbody>\n",
       "    <tr>\n",
       "      <th>163</th>\n",
       "      <td>67</td>\n",
       "      <td>Mariya Vasilyevna Abakumova (-Tarabina)</td>\n",
       "      <td>F</td>\n",
       "      <td>22.0</td>\n",
       "      <td>179.0</td>\n",
       "      <td>80.0</td>\n",
       "      <td>Russia</td>\n",
       "      <td>RUS</td>\n",
       "      <td>2008 Summer</td>\n",
       "      <td>2008</td>\n",
       "      <td>Summer</td>\n",
       "      <td>Beijing</td>\n",
       "      <td>Athletics</td>\n",
       "      <td>Athletics Women's Javelin Throw</td>\n",
       "      <td>Silver</td>\n",
       "    </tr>\n",
       "    <tr>\n",
       "      <th>164</th>\n",
       "      <td>67</td>\n",
       "      <td>Mariya Vasilyevna Abakumova (-Tarabina)</td>\n",
       "      <td>F</td>\n",
       "      <td>26.0</td>\n",
       "      <td>179.0</td>\n",
       "      <td>80.0</td>\n",
       "      <td>Russia</td>\n",
       "      <td>RUS</td>\n",
       "      <td>2012 Summer</td>\n",
       "      <td>2012</td>\n",
       "      <td>Summer</td>\n",
       "      <td>London</td>\n",
       "      <td>Athletics</td>\n",
       "      <td>Athletics Women's Javelin Throw</td>\n",
       "      <td>NaN</td>\n",
       "    </tr>\n",
       "    <tr>\n",
       "      <th>192</th>\n",
       "      <td>87</td>\n",
       "      <td>Rost'om Omeris dze Abashidze</td>\n",
       "      <td>M</td>\n",
       "      <td>29.0</td>\n",
       "      <td>188.0</td>\n",
       "      <td>97.0</td>\n",
       "      <td>Soviet Union</td>\n",
       "      <td>URS</td>\n",
       "      <td>1964 Summer</td>\n",
       "      <td>1964</td>\n",
       "      <td>Summer</td>\n",
       "      <td>Tokyo</td>\n",
       "      <td>Wrestling</td>\n",
       "      <td>Wrestling Men's Light-Heavyweight, Greco-Roman</td>\n",
       "      <td>NaN</td>\n",
       "    </tr>\n",
       "    <tr>\n",
       "      <th>193</th>\n",
       "      <td>88</td>\n",
       "      <td>Nunu Dzhansuhivna Abashydze (-Myslaieva)</td>\n",
       "      <td>F</td>\n",
       "      <td>25.0</td>\n",
       "      <td>168.0</td>\n",
       "      <td>105.0</td>\n",
       "      <td>Soviet Union</td>\n",
       "      <td>URS</td>\n",
       "      <td>1980 Summer</td>\n",
       "      <td>1980</td>\n",
       "      <td>Summer</td>\n",
       "      <td>Moskva</td>\n",
       "      <td>Athletics</td>\n",
       "      <td>Athletics Women's Shot Put</td>\n",
       "      <td>NaN</td>\n",
       "    </tr>\n",
       "    <tr>\n",
       "      <th>195</th>\n",
       "      <td>90</td>\n",
       "      <td>Tamila Rashidovna Abasova</td>\n",
       "      <td>F</td>\n",
       "      <td>21.0</td>\n",
       "      <td>163.0</td>\n",
       "      <td>60.0</td>\n",
       "      <td>Russia</td>\n",
       "      <td>RUS</td>\n",
       "      <td>2004 Summer</td>\n",
       "      <td>2004</td>\n",
       "      <td>Summer</td>\n",
       "      <td>Athina</td>\n",
       "      <td>Cycling</td>\n",
       "      <td>Cycling Women's Sprint</td>\n",
       "      <td>Silver</td>\n",
       "    </tr>\n",
       "    <tr>\n",
       "      <th>...</th>\n",
       "      <td>...</td>\n",
       "      <td>...</td>\n",
       "      <td>...</td>\n",
       "      <td>...</td>\n",
       "      <td>...</td>\n",
       "      <td>...</td>\n",
       "      <td>...</td>\n",
       "      <td>...</td>\n",
       "      <td>...</td>\n",
       "      <td>...</td>\n",
       "      <td>...</td>\n",
       "      <td>...</td>\n",
       "      <td>...</td>\n",
       "      <td>...</td>\n",
       "      <td>...</td>\n",
       "    </tr>\n",
       "    <tr>\n",
       "      <th>271102</th>\n",
       "      <td>135563</td>\n",
       "      <td>Olesya Nikolayevna Zykina</td>\n",
       "      <td>F</td>\n",
       "      <td>19.0</td>\n",
       "      <td>171.0</td>\n",
       "      <td>64.0</td>\n",
       "      <td>Russia</td>\n",
       "      <td>RUS</td>\n",
       "      <td>2000 Summer</td>\n",
       "      <td>2000</td>\n",
       "      <td>Summer</td>\n",
       "      <td>Sydney</td>\n",
       "      <td>Athletics</td>\n",
       "      <td>Athletics Women's 4 x 400 metres Relay</td>\n",
       "      <td>Bronze</td>\n",
       "    </tr>\n",
       "    <tr>\n",
       "      <th>271103</th>\n",
       "      <td>135563</td>\n",
       "      <td>Olesya Nikolayevna Zykina</td>\n",
       "      <td>F</td>\n",
       "      <td>23.0</td>\n",
       "      <td>171.0</td>\n",
       "      <td>64.0</td>\n",
       "      <td>Russia</td>\n",
       "      <td>RUS</td>\n",
       "      <td>2004 Summer</td>\n",
       "      <td>2004</td>\n",
       "      <td>Summer</td>\n",
       "      <td>Athina</td>\n",
       "      <td>Athletics</td>\n",
       "      <td>Athletics Women's 4 x 400 metres Relay</td>\n",
       "      <td>Silver</td>\n",
       "    </tr>\n",
       "    <tr>\n",
       "      <th>271104</th>\n",
       "      <td>135564</td>\n",
       "      <td>Yevgeny Aleksandrovich Zykov</td>\n",
       "      <td>M</td>\n",
       "      <td>22.0</td>\n",
       "      <td>172.0</td>\n",
       "      <td>65.0</td>\n",
       "      <td>Russia-1</td>\n",
       "      <td>RUS</td>\n",
       "      <td>2002 Winter</td>\n",
       "      <td>2002</td>\n",
       "      <td>Winter</td>\n",
       "      <td>Salt Lake City</td>\n",
       "      <td>Luge</td>\n",
       "      <td>Luge Mixed (Men)'s Doubles</td>\n",
       "      <td>NaN</td>\n",
       "    </tr>\n",
       "    <tr>\n",
       "      <th>271108</th>\n",
       "      <td>135567</td>\n",
       "      <td>Aleksandr Viktorovich Zyuzin</td>\n",
       "      <td>M</td>\n",
       "      <td>24.0</td>\n",
       "      <td>183.0</td>\n",
       "      <td>72.0</td>\n",
       "      <td>Russia</td>\n",
       "      <td>RUS</td>\n",
       "      <td>2000 Summer</td>\n",
       "      <td>2000</td>\n",
       "      <td>Summer</td>\n",
       "      <td>Sydney</td>\n",
       "      <td>Rowing</td>\n",
       "      <td>Rowing Men's Lightweight Coxless Fours</td>\n",
       "      <td>NaN</td>\n",
       "    </tr>\n",
       "    <tr>\n",
       "      <th>271109</th>\n",
       "      <td>135567</td>\n",
       "      <td>Aleksandr Viktorovich Zyuzin</td>\n",
       "      <td>M</td>\n",
       "      <td>28.0</td>\n",
       "      <td>183.0</td>\n",
       "      <td>72.0</td>\n",
       "      <td>Russia</td>\n",
       "      <td>RUS</td>\n",
       "      <td>2004 Summer</td>\n",
       "      <td>2004</td>\n",
       "      <td>Summer</td>\n",
       "      <td>Athina</td>\n",
       "      <td>Rowing</td>\n",
       "      <td>Rowing Men's Lightweight Coxless Fours</td>\n",
       "      <td>NaN</td>\n",
       "    </tr>\n",
       "  </tbody>\n",
       "</table>\n",
       "<p>11692 rows × 15 columns</p>\n",
       "</div>"
      ],
      "text/plain": [
       "            ID                                      Name Sex   Age  Height  \\\n",
       "163         67   Mariya Vasilyevna Abakumova (-Tarabina)   F  22.0   179.0   \n",
       "164         67   Mariya Vasilyevna Abakumova (-Tarabina)   F  26.0   179.0   \n",
       "192         87              Rost'om Omeris dze Abashidze   M  29.0   188.0   \n",
       "193         88  Nunu Dzhansuhivna Abashydze (-Myslaieva)   F  25.0   168.0   \n",
       "195         90                 Tamila Rashidovna Abasova   F  21.0   163.0   \n",
       "...        ...                                       ...  ..   ...     ...   \n",
       "271102  135563                 Olesya Nikolayevna Zykina   F  19.0   171.0   \n",
       "271103  135563                 Olesya Nikolayevna Zykina   F  23.0   171.0   \n",
       "271104  135564              Yevgeny Aleksandrovich Zykov   M  22.0   172.0   \n",
       "271108  135567              Aleksandr Viktorovich Zyuzin   M  24.0   183.0   \n",
       "271109  135567              Aleksandr Viktorovich Zyuzin   M  28.0   183.0   \n",
       "\n",
       "        Weight          Team  NOC        Games  Year  Season            City  \\\n",
       "163       80.0        Russia  RUS  2008 Summer  2008  Summer         Beijing   \n",
       "164       80.0        Russia  RUS  2012 Summer  2012  Summer          London   \n",
       "192       97.0  Soviet Union  URS  1964 Summer  1964  Summer           Tokyo   \n",
       "193      105.0  Soviet Union  URS  1980 Summer  1980  Summer          Moskva   \n",
       "195       60.0        Russia  RUS  2004 Summer  2004  Summer          Athina   \n",
       "...        ...           ...  ...          ...   ...     ...             ...   \n",
       "271102    64.0        Russia  RUS  2000 Summer  2000  Summer          Sydney   \n",
       "271103    64.0        Russia  RUS  2004 Summer  2004  Summer          Athina   \n",
       "271104    65.0      Russia-1  RUS  2002 Winter  2002  Winter  Salt Lake City   \n",
       "271108    72.0        Russia  RUS  2000 Summer  2000  Summer          Sydney   \n",
       "271109    72.0        Russia  RUS  2004 Summer  2004  Summer          Athina   \n",
       "\n",
       "            Sport                                           Event   Medal  \n",
       "163     Athletics                 Athletics Women's Javelin Throw  Silver  \n",
       "164     Athletics                 Athletics Women's Javelin Throw     NaN  \n",
       "192     Wrestling  Wrestling Men's Light-Heavyweight, Greco-Roman     NaN  \n",
       "193     Athletics                      Athletics Women's Shot Put     NaN  \n",
       "195       Cycling                          Cycling Women's Sprint  Silver  \n",
       "...           ...                                             ...     ...  \n",
       "271102  Athletics          Athletics Women's 4 x 400 metres Relay  Bronze  \n",
       "271103  Athletics          Athletics Women's 4 x 400 metres Relay  Silver  \n",
       "271104       Luge                      Luge Mixed (Men)'s Doubles     NaN  \n",
       "271108     Rowing          Rowing Men's Lightweight Coxless Fours     NaN  \n",
       "271109     Rowing          Rowing Men's Lightweight Coxless Fours     NaN  \n",
       "\n",
       "[11692 rows x 15 columns]"
      ]
     },
     "execution_count": 57,
     "metadata": {},
     "output_type": "execute_result"
    }
   ],
   "source": [
    "#RUS=Russia, URS=Soviet Union, EUN=Former Soviet Union\n",
    "rus=(data['NOC'] == 'RUS')|(data['NOC'] == 'URS')|(data['NOC'] == 'EUN')\n",
    "athletes=data[(rus)]\n",
    "athletes"
   ]
  },
  {
   "cell_type": "markdown",
   "id": "spiritual-topic",
   "metadata": {},
   "source": [
    "This shows all of the athletes that were part of the Soviet Union and Russia"
   ]
  },
  {
   "cell_type": "code",
   "execution_count": 28,
   "id": "norman-banking",
   "metadata": {},
   "outputs": [
    {
     "name": "stdout",
     "output_type": "stream",
     "text": [
      "Statistics relating to Russia at the olympics from 1896 to 2016:\n",
      "Count of events particpated in by Russian athletes: 11692\n",
      "Count of Russia athletes who have competed at the olympics: 5597\n",
      "Count medals won by russian athletes: 3947\n",
      "Average age of russian athletes who have competed: 24.086206896551722\n"
     ]
    }
   ],
   "source": [
    "print(\"Statistics relating to Russia at the olympics from 1896 to 2016:\")\n",
    "print(\"Count of events particpated in by Russian athletes: \"+str(athletes.shape[0]))\n",
    "athletesUnique=data[rus].drop_duplicates(subset=['Name'])\n",
    "print(\"Count of Russia athletes who have competed at the olympics: \"+str(athletesUnique.shape[0]))\n",
    "medals=athletes.dropna(subset=[\"Medal\"])\n",
    "print(\"Count medals won by russian athletes: \"+str(medals.shape[0]))\n",
    "avgAge=athletesUnique['Age'].mean()\n",
    "print(\"Average age of russian athletes who have competed: \"+str(avgAge))"
   ]
  },
  {
   "cell_type": "code",
   "execution_count": 44,
   "id": "shared-requirement",
   "metadata": {},
   "outputs": [
    {
     "data": {
      "text/plain": [
       "Text(0.5, 1.0, 'Total Medals won by Russian olympic athletes each year')"
      ]
     },
     "execution_count": 44,
     "metadata": {},
     "output_type": "execute_result"
    },
    {
     "data": {
      "image/png": "[encoded data removed]",
      "text/plain": [
       "<Figure size 1224x648 with 1 Axes>"
      ]
     },
     "metadata": {},
     "output_type": "display_data"
    }
   ],
   "source": [
    "sns.set(rc={'figure.figsize':(17,9)})\n",
    "totalmedalsPerYear=(sns.countplot(data=medals, x=\"Year\", palette=\"pastel\"))\n",
    "totalmedalsPerYear.set_title(\"Total Medals won by Russian olympic athletes each year\")"
   ]
  },
  {
   "cell_type": "code",
   "execution_count": 43,
   "id": "moral-utility",
   "metadata": {},
   "outputs": [
    {
     "data": {
      "text/plain": [
       "Text(0.5, 1.0, 'Number of Gold, Silver, and Bronze medals won by Russian olympic athletes each year')"
      ]
     },
     "execution_count": 43,
     "metadata": {},
     "output_type": "execute_result"
    },
    {
     "data": {
      "image/png": "[encoded data removed]",
      "text/plain": [
       "<Figure size 1224x648 with 1 Axes>"
      ]
     },
     "metadata": {},
     "output_type": "display_data"
    }
   ],
   "source": [
    "sns.set(rc={'figure.figsize':(17,9)})\n",
    "medalsPerYear=(sns.countplot(data=medals, x=\"Year\", hue=\"Medal\", palette=\"pastel\"))\n",
    "medalsPerYear.set_title(\"Number of Gold, Silver, and Bronze medals won by Russian olympic athletes each year\")"
   ]
  },
  {
   "cell_type": "markdown",
   "id": "reliable-blade",
   "metadata": {},
   "source": [
    "The chart above shows the amount of gold, silver and bronze medals won total in each year for Russia/Soviet Union\n",
    "\n",
    "    Observations:\n",
    "- The most total medals were won in 1980\n",
    "- The most Gold medals were won in the year 1980\n",
    "- The most Silver medals were won in the year 1980 as well, as well as the most bronze medals\n",
    "    - It can be seen that clearly the most amount of medals total won was in 1980 which explains why this year has the most gold, silver and bronze medals won\n",
    "- 1908 had the least amount of medals won "
   ]
  },
  {
   "cell_type": "code",
   "execution_count": 46,
   "id": "arbitrary-console",
   "metadata": {},
   "outputs": [
    {
     "data": {
      "text/plain": [
       "Text(0.5, 1.0, 'Total Number of Russian olympic athletes each year')"
      ]
     },
     "execution_count": 46,
     "metadata": {},
     "output_type": "execute_result"
    },
    {
     "data": {
      "image/png": "[encoded data removed]",
      "text/plain": [
       "<Figure size 1224x648 with 1 Axes>"
      ]
     },
     "metadata": {},
     "output_type": "display_data"
    }
   ],
   "source": [
    "athletesPerYear=(sns.countplot(data=athletesUnique, x=\"Year\"))\n",
    "athletesPerYear.set_title(\"Total Number of Russian olympic athletes each year\")"
   ]
  },
  {
   "cell_type": "markdown",
   "id": "italian-flooring",
   "metadata": {},
   "source": [
    "The above chart shows the number of Russian athletes that competed in the olympics each year\n",
    "\n",
    "    Obervations:\n",
    "- The year 1988 had the most athletes participating in the olympics\n",
    "- The year 1924 had the least athletes participating in the olympics, with 1900 and 1908 very close to the least amount as well"
   ]
  },
  {
   "cell_type": "code",
   "execution_count": 47,
   "id": "lovely-ideal",
   "metadata": {},
   "outputs": [
    {
     "data": {
      "text/plain": [
       "Text(0.5, 1.0, 'Number of Male and Female Russian olympic athletes each year')"
      ]
     },
     "execution_count": 47,
     "metadata": {},
     "output_type": "execute_result"
    },
    {
     "data": {
      "image/png": "[encoded data removed]",
      "text/plain": [
       "<Figure size 1224x648 with 1 Axes>"
      ]
     },
     "metadata": {},
     "output_type": "display_data"
    }
   ],
   "source": [
    "athletesPerYear2=(sns.countplot(data=athletesUnique, x=\"Year\", hue=\"Sex\"))\n",
    "athletesPerYear2.set_title(\"Number of Male and Female Russian olympic athletes each year\")"
   ]
  },
  {
   "cell_type": "markdown",
   "id": "twelve-birth",
   "metadata": {},
   "source": [
    "The above chart shows the number of athletes from Russia/Soviet Union separated by male and female that competed each year\n",
    "\n",
    "    Observations:\n",
    "- The year with the most male athletes is 1988\n",
    "- The year with the most female athletes is also 1988"
   ]
  },
  {
   "cell_type": "code",
   "execution_count": 59,
   "id": "registered-implement",
   "metadata": {},
   "outputs": [
    {
     "data": {
      "text/plain": [
       "Text(0.5, 1.0, 'Average age of Russian olympic athletes per year')"
      ]
     },
     "execution_count": 59,
     "metadata": {},
     "output_type": "execute_result"
    },
    {
     "data": {
      "image/png": "[encoded data removed]",
      "text/plain": [
       "<Figure size 1224x648 with 1 Axes>"
      ]
     },
     "metadata": {},
     "output_type": "display_data"
    }
   ],
   "source": [
    "agePerYear=(sns.lineplot(data=athletesUnique, x=\"Year\", y='Age'))\n",
    "agePerYear.set_title(\"Average age of Russian olympic athletes per year\")"
   ]
  },
  {
   "cell_type": "markdown",
   "id": "balanced-context",
   "metadata": {},
   "source": [
    "The above chart shows the average age of Russian olympic athletes throughout the years"
   ]
  },
  {
   "cell_type": "markdown",
   "id": "emotional-control",
   "metadata": {},
   "source": [
    "## Task 5: Analysis\n",
    "---"
   ]
  },
  {
   "cell_type": "code",
   "execution_count": 9,
   "id": "american-hostel",
   "metadata": {},
   "outputs": [
    {
     "name": "stdout",
     "output_type": "stream",
     "text": [
      "Count of events participated by Russian male athletes: 7587\n"
     ]
    }
   ],
   "source": [
    "maleAthletes=data[rus&(data['Sex'] == 'M')]\n",
    "print(\"Count of events participated by Russian male athletes: \"+str(maleAthletes.shape[0]))"
   ]
  },
  {
   "cell_type": "code",
   "execution_count": 10,
   "id": "remarkable-little",
   "metadata": {},
   "outputs": [
    {
     "name": "stdout",
     "output_type": "stream",
     "text": [
      "Count of events participated by Russian female athletes: 4105\n"
     ]
    }
   ],
   "source": [
    "femaleAthletes=data[rus&(data['Sex'] == 'F')]\n",
    "print(\"Count of events participated by Russian female athletes: \"+str(femaleAthletes.shape[0]))"
   ]
  },
  {
   "cell_type": "code",
   "execution_count": 11,
   "id": "urban-seeker",
   "metadata": {},
   "outputs": [
    {
     "name": "stdout",
     "output_type": "stream",
     "text": [
      "Count of male Russian athletes who have competed in the olympics: 3801\n"
     ]
    }
   ],
   "source": [
    "maleAthletesUnique=maleAthletes.drop_duplicates(subset=['Name'])\n",
    "print(\"Count of male Russian athletes who have competed in the olympics: \"+str(maleAthletesUnique.shape[0]))"
   ]
  },
  {
   "cell_type": "code",
   "execution_count": 12,
   "id": "inclusive-phrase",
   "metadata": {},
   "outputs": [
    {
     "name": "stdout",
     "output_type": "stream",
     "text": [
      "Count of female Russian athletes who have competed in the olympics: 1796\n"
     ]
    }
   ],
   "source": [
    "femaleAthletesUnique=femaleAthletes.drop_duplicates(subset=['Name'])\n",
    "print(\"Count of female Russian athletes who have competed in the olympics: \"+str(femaleAthletesUnique.shape[0]))"
   ]
  },
  {
   "cell_type": "code",
   "execution_count": 13,
   "id": "divine-surname",
   "metadata": {},
   "outputs": [
    {
     "name": "stdout",
     "output_type": "stream",
     "text": [
      "Number of medals won by male Russian athletes: 2340\n"
     ]
    }
   ],
   "source": [
    "maleAthletesMedals=maleAthletes.dropna()\n",
    "print(\"Number of medals won by male Russian athletes: \"+str(maleAthletesMedals.shape[0]))"
   ]
  },
  {
   "cell_type": "code",
   "execution_count": 14,
   "id": "associate-diameter",
   "metadata": {},
   "outputs": [
    {
     "name": "stdout",
     "output_type": "stream",
     "text": [
      "Number of medals won by female Russian athletes: 1270\n"
     ]
    }
   ],
   "source": [
    "femaleAthletesMedals=femaleAthletes.dropna()\n",
    "print(\"Number of medals won by female Russian athletes: \"+str(femaleAthletesMedals.shape[0]))"
   ]
  },
  {
   "cell_type": "code",
   "execution_count": 60,
   "id": "spoken-logan",
   "metadata": {},
   "outputs": [
    {
     "name": "stdout",
     "output_type": "stream",
     "text": [
      "Count of individual male Russian athletes who won medals: 1550\n"
     ]
    }
   ],
   "source": [
    "maleAthletesMedalsUnique=maleAthletesMedals.drop_duplicates(subset=['Name'])\n",
    "print(\"Count of individual male Russian athletes who won medals: \"+str(maleAthletesMedalsUnique.shape[0]))"
   ]
  },
  {
   "cell_type": "code",
   "execution_count": 62,
   "id": "grand-suspect",
   "metadata": {},
   "outputs": [
    {
     "name": "stdout",
     "output_type": "stream",
     "text": [
      "Count of individual female Russian athletes who won medals: 798\n"
     ]
    }
   ],
   "source": [
    "femaleAthletesMedalsUnique=femaleAthletesMedals.drop_duplicates(subset=['Name'])\n",
    "print(\"Count of individual female Russian athletes who won medals: \"+str(femaleAthletesMedalsUnique.shape[0]))"
   ]
  },
  {
   "cell_type": "code",
   "execution_count": 64,
   "id": "secret-aside",
   "metadata": {},
   "outputs": [
    {
     "data": {
      "text/plain": [
       "<bound method Series.dropna of Sport                    \n",
       "Athletics                    1573\n",
       "Gymnastics                   1289\n",
       "Swimming                      919\n",
       "Cross Country Skiing          542\n",
       "Fencing                       529\n",
       "Speed Skating                 460\n",
       "Rowing                        454\n",
       "Shooting                      417\n",
       "Ice Hockey                    405\n",
       "Cycling                       346\n",
       "Volleyball                    303\n",
       "Wrestling                     300\n",
       "Biathlon                      283\n",
       "Canoeing                      278\n",
       "Basketball                    264\n",
       "Alpine Skiing                 241\n",
       "Handball                      224\n",
       "Figure Skating                217\n",
       "Water Polo                    215\n",
       "Equestrianism                 212\n",
       "Sailing                       205\n",
       "Diving                        185\n",
       "Boxing                        172\n",
       "Ski Jumping                   135\n",
       "Weightlifting                 126\n",
       "Bobsleigh                     120\n",
       "Luge                          118\n",
       "Football                      117\n",
       "Judo                          115\n",
       "Tennis                         94\n",
       "Nordic Combined                86\n",
       "Modern Pentathlon              86\n",
       "Archery                        84\n",
       "Freestyle Skiing               80\n",
       "Short Track Speed Skating      77\n",
       "Synchronized Swimming          73\n",
       "Hockey                         62\n",
       "Table Tennis                   58\n",
       "Rhythmic Gymnastics            51\n",
       "Snowboarding                   38\n",
       "Badminton                      32\n",
       "Curling                        23\n",
       "Triathlon                      20\n",
       "Beach Volleyball               18\n",
       "Trampolining                   16\n",
       "Skeleton                       14\n",
       "Taekwondo                      11\n",
       "Art Competitions                4\n",
       "Golf                            1\n",
       "dtype: int64>"
      ]
     },
     "execution_count": 64,
     "metadata": {},
     "output_type": "execute_result"
    }
   ],
   "source": [
    "top5=data[rus].value_counts(['Sport']).dropna\n",
    "top5"
   ]
  }
 ],
 "metadata": {
  "kernelspec": {
   "display_name": "Python 3",
   "language": "python",
   "name": "python3"
  },
  "language_info": {
   "codemirror_mode": {
    "name": "ipython",
    "version": 3
   },
   "file_extension": ".py",
   "mimetype": "text/x-python",
   "name": "python",
   "nbconvert_exporter": "python",
   "pygments_lexer": "ipython3",
   "version": "3.8.5"
  }
 },
 "nbformat": 4,
 "nbformat_minor": 5
}
