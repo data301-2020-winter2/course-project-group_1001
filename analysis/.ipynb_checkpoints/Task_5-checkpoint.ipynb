{
 "cells": [
  {
   "cell_type": "markdown",
   "metadata": {},
   "source": [
    "# Data Analysis\n",
    "\n",
    "## Research Question: Examine the top 3 countries who have competed at the olympics, and examine their preformance over the past 120 years.\n",
    "#### For Each top 3 country, these aspects should be examined in order to answer the question:\n",
    "- Which years did this country win the most medals? \n",
    "    - Most gold medals?\n",
    "- Which years did this country win the least amount of medals?\n",
    "- When did this country first appear in the olympics?\n",
    "- How many olympics has this country competed in?\n",
    "- How many athletes of that country have competed? \n",
    "    - How many each year? \n",
    "    - How many male or female athletes?\n",
    "- How many athletes of that country have won medals?\n",
    "    - How many won each year? \n",
    "    - How many male or female athletes have won medals?\n",
    "    - How many gold, silver, bronze medals have been won by this country?\n",
    "- How many athletes of this country have competed during summer olympics compared to winter olympics? \n",
    "    - How does this compare yearly?\n",
    "- How many medals were won by athletes of this country during the summer olympics compared to the winter olympics? \n",
    "    - How does this compare yearly?\n",
    "- Who were the oldest and youngest athletes of this country to compete, and what is the average age of competing athletes of this country?\n",
    "- Who are the oldest and youngest athletes of this country who have won medals, and what is the average age of athletes who have won medals for this country?\n",
    "- What is the average age of completing athletes per year of this country?\n",
    "- What is the average age of athletes who have won medals for this country per year?\n",
    "- What are the top 5 competed sports for this country?\n",
    "- What are the top 5 most succesful sports for this country?\n"
   ]
  },
  {
   "cell_type": "markdown",
   "metadata": {},
   "source": [
    "Starting with some basic imports, as well as the dataset import and a simple query, we can determine what are the 3 most sucessful countries during the olympics."
   ]
  },
  {
   "cell_type": "code",
   "execution_count": 9,
   "metadata": {},
   "outputs": [
    {
     "data": {
      "text/plain": [
       "NOC\n",
       "USA    5637\n",
       "URS    2503\n",
       "GER    2165\n",
       "dtype: int64"
      ]
     },
     "execution_count": 9,
     "metadata": {},
     "output_type": "execute_result"
    }
   ],
   "source": [
    "import pandas as pd\n",
    "import numpy as np\n",
    "from matplotlib import pyplot\n",
    "import seaborn as sns\n",
    "data = pd.read_csv('../data/raw/olympic_dataset.csv', low_memory=False, encoding = 'utf-8')\n",
    "top3Countries=(data.dropna(subset=['Medal'])).value_counts(subset=['NOC'])\n",
    "top3Countries.head(3)"
   ]
  },
  {
   "cell_type": "markdown",
   "metadata": {},
   "source": [
    "Based on this, we can see that the United States leads the dataset with the most amount of medals, with the Soviet Union coming in second, and Germany in third. Therefore, our data analysis will focus on these three countries.\n",
    "\n",
    "Although, with the Soviet Union and Germany, there have been many historical changes to those two countries over the past 120 years, which could affect medal counts. So, in order to remain competitive with the United States, as well as accurate, previous and modern versions of these two countries olympic teams will be considered as well. For the Soviet Union, this means including modern Russian teams, teams that belonged to the Empire of Russia, as well as the Unified Soviet Team. For Germany, this means including the Empire of Germany, East Germany, West Germany,  and the Saar Protectorate, alongside its modern form. Now that we are considering all modern and historical versions of the countries mentioned, we can start with the analysis."
   ]
  },
  {
   "cell_type": "markdown",
   "metadata": {},
   "source": [
    "## United States(name here)"
   ]
  },
  {
   "cell_type": "code",
   "execution_count": null,
   "metadata": {},
   "outputs": [],
   "source": []
  },
  {
   "cell_type": "markdown",
   "metadata": {},
   "source": [
    "## Soviet Union/Russia(name here)"
   ]
  },
  {
   "cell_type": "code",
   "execution_count": null,
   "metadata": {},
   "outputs": [],
   "source": []
  },
  {
   "cell_type": "markdown",
   "metadata": {},
   "source": [
    "## Germany(Christian)"
   ]
  },
  {
   "cell_type": "code",
   "execution_count": null,
   "metadata": {},
   "outputs": [],
   "source": []
  },
  {
   "cell_type": "code",
   "execution_count": null,
   "metadata": {},
   "outputs": [],
   "source": []
  }
 ],
 "metadata": {
  "kernelspec": {
   "display_name": "Python 3",
   "language": "python",
   "name": "python3"
  },
  "language_info": {
   "codemirror_mode": {
    "name": "ipython",
    "version": 3
   },
   "file_extension": ".py",
   "mimetype": "text/x-python",
   "name": "python",
   "nbconvert_exporter": "python",
   "pygments_lexer": "ipython3",
   "version": "3.8.5"
  }
 },
 "nbformat": 4,
 "nbformat_minor": 4
}
