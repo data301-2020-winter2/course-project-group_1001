* List 1
* List 2
  * List 2a
  * List 2b
* List 3

** I can make my text bold **

* I can italicize my text *
