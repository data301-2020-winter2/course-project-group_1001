{
 "cells": [
  {
   "cell_type": "markdown",
   "id": "israeli-canon",
   "metadata": {},
   "source": [
    "Markdown Elements"
   ]
  },
  {
   "cell_type": "markdown",
   "id": "exact-relative",
   "metadata": {},
   "source": [
    "* Note 1\n",
    "* Note 2\n",
    "* Note 3\n",
    "  * Note 3a"
   ]
  },
  {
   "cell_type": "markdown",
   "id": "threaded-access",
   "metadata": {},
   "source": [
    "**I can make the text bold**"
   ]
  },
  {
   "cell_type": "markdown",
   "id": "successful-ancient",
   "metadata": {},
   "source": [
    "*I can italicized the text*"
   ]
  }
 ],
 "metadata": {
  "kernelspec": {
   "display_name": "Python 3",
   "language": "python",
   "name": "python3"
  },
  "language_info": {
   "codemirror_mode": {
    "name": "ipython",
    "version": 3
   },
   "file_extension": ".py",
   "mimetype": "text/x-python",
   "name": "python",
   "nbconvert_exporter": "python",
   "pygments_lexer": "ipython3",
   "version": "3.8.5"
  }
 },
 "nbformat": 4,
 "nbformat_minor": 5
}
